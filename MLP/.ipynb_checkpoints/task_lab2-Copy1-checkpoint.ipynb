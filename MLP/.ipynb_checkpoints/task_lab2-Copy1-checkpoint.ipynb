{
 "cells": [
  {
   "cell_type": "code",
   "execution_count": 3,
   "metadata": {
    "colab": {},
    "colab_type": "code",
    "id": "p-2rBvEkkQMj"
   },
   "outputs": [],
   "source": [
    "import torch\n",
    "from torch import nn\n",
    "from torch import functional as F\n",
    "import pandas as pd\n",
    "import numpy as np\n",
    "from sklearn.model_selection import train_test_split\n",
    "from matplotlib import pyplot as plt\n",
    "import tqdm"
   ]
  },
  {
   "cell_type": "markdown",
   "metadata": {},
   "source": [
    "Задание 1. Генератор батчей (batch generator)\n",
    "В этот раз мы хотим сделать генератор, который будет максимально похож на то, что используется в реальном обучении.\n",
    "\n",
    "С помощью numpy вам нужно перемешать исходную выборку и выбирать из нее батчи размером batch_size, если размер выборки не делился на размер батча, то последний батч должен иметь размер меньше batch_size и состоять просто из всех оставшихся объектов.\n",
    "\n",
    "You also can test you code here: pik.org/lesson/278387/step/2"
   ]
  },
  {
   "cell_type": "code",
   "execution_count": 4,
   "metadata": {},
   "outputs": [],
   "source": [
    "def batch_generator(X, y, batch_size):\n",
    "    np.random.seed(42)\n",
    "    pos = np.random.permutation(len(X))\n",
    "    for i in range(0, len(X), batch_size):\n",
    "        X_batch = X[pos[i: i + batch_size]]\n",
    "        y_batch = y[pos[i: i + batch_size]]\n",
    "    yield (X_batch, y_batch)"
   ]
  },
  {
   "cell_type": "code",
   "execution_count": 5,
   "metadata": {
    "colab": {
     "base_uri": "https://localhost:8080/",
     "height": 85
    },
    "colab_type": "code",
    "executionInfo": {
     "elapsed": 2450,
     "status": "ok",
     "timestamp": 1586246030358,
     "user": {
      "displayName": "Yury Yarovikov",
      "photoUrl": "https://lh3.googleusercontent.com/a-/AOh14Gip8__BUAkkFW7zB1tjXwB7Y8uEezomM5ErVG2V=s64",
      "userId": "05223355485824927663"
     },
     "user_tz": -180
    },
    "id": "QRcIYVvUkQM2",
    "outputId": "8c6b62aa-45d3-4a89-bc39-6470c22861f5"
   },
   "outputs": [],
   "source": [
    "df = pd.read_csv('iris.csv', sep = ',')"
   ]
  },
  {
   "cell_type": "code",
   "execution_count": 6,
   "metadata": {},
   "outputs": [
    {
     "data": {
      "text/html": [
       "<div>\n",
       "<style scoped>\n",
       "    .dataframe tbody tr th:only-of-type {\n",
       "        vertical-align: middle;\n",
       "    }\n",
       "\n",
       "    .dataframe tbody tr th {\n",
       "        vertical-align: top;\n",
       "    }\n",
       "\n",
       "    .dataframe thead th {\n",
       "        text-align: right;\n",
       "    }\n",
       "</style>\n",
       "<table border=\"1\" class=\"dataframe\">\n",
       "  <thead>\n",
       "    <tr style=\"text-align: right;\">\n",
       "      <th></th>\n",
       "      <th>sepal.length</th>\n",
       "      <th>sepal.width</th>\n",
       "      <th>petal.length</th>\n",
       "      <th>petal.width</th>\n",
       "      <th>variety</th>\n",
       "    </tr>\n",
       "  </thead>\n",
       "  <tbody>\n",
       "    <tr>\n",
       "      <th>0</th>\n",
       "      <td>5.1</td>\n",
       "      <td>3.5</td>\n",
       "      <td>1.4</td>\n",
       "      <td>0.2</td>\n",
       "      <td>Setosa</td>\n",
       "    </tr>\n",
       "    <tr>\n",
       "      <th>1</th>\n",
       "      <td>4.9</td>\n",
       "      <td>3.0</td>\n",
       "      <td>1.4</td>\n",
       "      <td>0.2</td>\n",
       "      <td>Setosa</td>\n",
       "    </tr>\n",
       "    <tr>\n",
       "      <th>2</th>\n",
       "      <td>4.7</td>\n",
       "      <td>3.2</td>\n",
       "      <td>1.3</td>\n",
       "      <td>0.2</td>\n",
       "      <td>Setosa</td>\n",
       "    </tr>\n",
       "    <tr>\n",
       "      <th>3</th>\n",
       "      <td>4.6</td>\n",
       "      <td>3.1</td>\n",
       "      <td>1.5</td>\n",
       "      <td>0.2</td>\n",
       "      <td>Setosa</td>\n",
       "    </tr>\n",
       "    <tr>\n",
       "      <th>4</th>\n",
       "      <td>5.0</td>\n",
       "      <td>3.6</td>\n",
       "      <td>1.4</td>\n",
       "      <td>0.2</td>\n",
       "      <td>Setosa</td>\n",
       "    </tr>\n",
       "    <tr>\n",
       "      <th>...</th>\n",
       "      <td>...</td>\n",
       "      <td>...</td>\n",
       "      <td>...</td>\n",
       "      <td>...</td>\n",
       "      <td>...</td>\n",
       "    </tr>\n",
       "    <tr>\n",
       "      <th>145</th>\n",
       "      <td>6.7</td>\n",
       "      <td>3.0</td>\n",
       "      <td>5.2</td>\n",
       "      <td>2.3</td>\n",
       "      <td>Virginica</td>\n",
       "    </tr>\n",
       "    <tr>\n",
       "      <th>146</th>\n",
       "      <td>6.3</td>\n",
       "      <td>2.5</td>\n",
       "      <td>5.0</td>\n",
       "      <td>1.9</td>\n",
       "      <td>Virginica</td>\n",
       "    </tr>\n",
       "    <tr>\n",
       "      <th>147</th>\n",
       "      <td>6.5</td>\n",
       "      <td>3.0</td>\n",
       "      <td>5.2</td>\n",
       "      <td>2.0</td>\n",
       "      <td>Virginica</td>\n",
       "    </tr>\n",
       "    <tr>\n",
       "      <th>148</th>\n",
       "      <td>6.2</td>\n",
       "      <td>3.4</td>\n",
       "      <td>5.4</td>\n",
       "      <td>2.3</td>\n",
       "      <td>Virginica</td>\n",
       "    </tr>\n",
       "    <tr>\n",
       "      <th>149</th>\n",
       "      <td>5.9</td>\n",
       "      <td>3.0</td>\n",
       "      <td>5.1</td>\n",
       "      <td>1.8</td>\n",
       "      <td>Virginica</td>\n",
       "    </tr>\n",
       "  </tbody>\n",
       "</table>\n",
       "<p>150 rows × 5 columns</p>\n",
       "</div>"
      ],
      "text/plain": [
       "     sepal.length  sepal.width  petal.length  petal.width    variety\n",
       "0             5.1          3.5           1.4          0.2     Setosa\n",
       "1             4.9          3.0           1.4          0.2     Setosa\n",
       "2             4.7          3.2           1.3          0.2     Setosa\n",
       "3             4.6          3.1           1.5          0.2     Setosa\n",
       "4             5.0          3.6           1.4          0.2     Setosa\n",
       "..            ...          ...           ...          ...        ...\n",
       "145           6.7          3.0           5.2          2.3  Virginica\n",
       "146           6.3          2.5           5.0          1.9  Virginica\n",
       "147           6.5          3.0           5.2          2.0  Virginica\n",
       "148           6.2          3.4           5.4          2.3  Virginica\n",
       "149           5.9          3.0           5.1          1.8  Virginica\n",
       "\n",
       "[150 rows x 5 columns]"
      ]
     },
     "execution_count": 6,
     "metadata": {},
     "output_type": "execute_result"
    }
   ],
   "source": [
    "df"
   ]
  },
  {
   "cell_type": "code",
   "execution_count": 7,
   "metadata": {},
   "outputs": [
    {
     "data": {
      "text/plain": [
       "array(['Setosa', 'Versicolor', 'Virginica'], dtype=object)"
      ]
     },
     "execution_count": 7,
     "metadata": {},
     "output_type": "execute_result"
    }
   ],
   "source": [
    "df['variety'].unique()"
   ]
  },
  {
   "cell_type": "code",
   "execution_count": 8,
   "metadata": {},
   "outputs": [],
   "source": [
    "target_mapping = {\n",
    "    'Setosa': 0,\n",
    "    'Versicolor': 1,\n",
    "    'Virginica': 2\n",
    "}\n",
    "feature_columns = ['sepal.length', 'sepal.width', 'petal.length', 'petal.width']\n",
    "target_column = 'variety'\n",
    "X = np.array(df[feature_columns])\n",
    "y = np.array(df[target_column])\n",
    "\n",
    "# encode target with target_mapping\n",
    "y = np.array([target_mapping[cls] for cls in y])"
   ]
  },
  {
   "cell_type": "code",
   "execution_count": 9,
   "metadata": {
    "colab": {},
    "colab_type": "code",
    "id": "ynmXS7dMkQM8"
   },
   "outputs": [],
   "source": [
    "# Просто вычтите среднее и поделитe на стандартное отклонение. Также преобразуйте всё в np.array\n",
    "X_mean = np.mean(X, axis = 0)\n",
    "X_std = np.std(X, axis = 0)\n",
    "X = np.array((X - X_mean)/X_std)"
   ]
  },
  {
   "cell_type": "code",
   "execution_count": 10,
   "metadata": {},
   "outputs": [],
   "source": [
    "# Split train/test\n",
    "X_train, X_test, y_train, y_test = train_test_split(X, y, random_state=42)\n",
    "# Превратим данные в тензоры, чтобы потом было удобнее\n",
    "X_train = torch.FloatTensor(X_train)\n",
    "y_train = torch.LongTensor(y_train)\n",
    "X_test = torch.FloatTensor(X_test)\n",
    "y_test = torch.LongTensor(y_test)"
   ]
  },
  {
   "cell_type": "code",
   "execution_count": 408,
   "metadata": {},
   "outputs": [],
   "source": [
    "torch.manual_seed(42) \n",
    "np.random.seed(42)\n",
    "model = torch.nn.Sequential(\n",
    "    nn.Linear(4, 16),\n",
    "    nn.ReLU(),\n",
    "    nn.Linear(16, 16),\n",
    "    nn.ReLU(),\n",
    "    nn.Linear(16, 3)\n",
    ")\n",
    "    \n",
    "loss_fn = nn.CrossEntropyLoss()\n",
    "optimizer = torch.optim.Adam(model.parameters(), lr=1e-2)"
   ]
  },
  {
   "cell_type": "code",
   "execution_count": 409,
   "metadata": {
    "colab": {},
    "colab_type": "code",
    "id": "41jYcT6AkQNt"
   },
   "outputs": [
    {
     "name": "stderr",
     "output_type": "stream",
     "text": [
      "100%|██████████| 250/250 [00:00<00:00, 895.59it/s]\n"
     ]
    }
   ],
   "source": [
    "    num_epoch = 250\n",
    "    train_losses = []\n",
    "    for i in tqdm.tqdm(range(num_epoch)):\n",
    "        epoch_train_losses = []\n",
    "        for X_batch, y_batch in batch_generator(X_train, y_train, 40):\n",
    "            y_pred = model(X_batch)\n",
    "            loss = loss_fn(y_pred, y_batch)\n",
    "            # зануляем градиент\n",
    "            optimizer.zero_grad()\n",
    "            # backward\n",
    "            loss.backward()\n",
    "            # ОБНОВЛЯЕМ веса\n",
    "            optimizer.step()\n",
    "            # Запишем число (не тензор) в наши батчевые лоссы\n",
    "            epoch_train_losses.append(loss.detach().numpy())     \n",
    "        #train_losses в traom_losses записываем среднюю epoch_train_losses\n",
    "        train_losses.append(np.mean(epoch_train_losses))    "
   ]
  },
  {
   "cell_type": "code",
   "execution_count": 410,
   "metadata": {},
   "outputs": [
    {
     "data": {
      "text/plain": [
       "[<matplotlib.lines.Line2D at 0x2031f15a820>]"
      ]
     },
     "execution_count": 410,
     "metadata": {},
     "output_type": "execute_result"
    },
    {
     "data": {
      "image/png": "[encoded data removed]",
      "text/plain": [
       "<Figure size 432x288 with 1 Axes>"
      ]
     },
     "metadata": {
      "needs_background": "light"
     },
     "output_type": "display_data"
    }
   ],
   "source": [
    "#визуализируем график ошибки \n",
    "plt.plot(range(len(train_losses)), train_losses, label='train')"
   ]
  },
  {
   "cell_type": "code",
   "execution_count": 411,
   "metadata": {},
   "outputs": [],
   "source": [
    "#посчитаем y_pred по тестовым данных (используйте model.forward)\n",
    "y_pred = model.forward(X_test)"
   ]
  },
  {
   "cell_type": "code",
   "execution_count": 412,
   "metadata": {},
   "outputs": [
    {
     "name": "stdout",
     "output_type": "stream",
     "text": [
      "tensor([[ -3.0790,   7.6031,  -2.9078],\n",
      "        [  8.5089,  -1.0485, -10.9623],\n",
      "        [-19.4249, -23.5164,  32.5804],\n",
      "        [ -3.1405,   6.8416,  -2.1432],\n",
      "        [ -5.1802,   6.0243,   0.2780],\n",
      "        [  7.5640,  -0.5613,  -9.8795],\n",
      "        [ -1.3072,   6.5518,  -3.7271],\n",
      "        [ -9.8065,  -8.0037,  13.7027],\n",
      "        [ -8.5996,   2.8405,   5.5258],\n",
      "        [ -2.3891,   7.4357,  -3.4396],\n",
      "        [ -6.4368,  -1.1787,   6.2454],\n",
      "        [  7.8101,  -0.6148,  -9.7850],\n",
      "        [  8.4213,  -0.9474, -10.6983],\n",
      "        [  7.9353,  -0.7088,  -9.9538],\n",
      "        [  9.8485,  -2.1291, -12.0021],\n",
      "        [ -2.1969,   6.5089,  -2.7938],\n",
      "        [-11.3184, -11.2392,  17.1956],\n",
      "        [ -2.7063,   8.3053,  -3.7995],\n",
      "        [ -2.6529,   7.2075,  -2.9595],\n",
      "        [-12.2451, -12.3354,  18.7776],\n",
      "        [  8.3877,  -1.1703, -10.3620],\n",
      "        [ -5.3087,   2.3312,   2.9302],\n",
      "        [  8.2013,  -1.1233, -10.3587],\n",
      "        [-11.5927, -10.5672,  17.0461],\n",
      "        [ -7.3298,  -3.9799,   8.7708],\n",
      "        [-10.5245,  -9.2828,  15.2072],\n",
      "        [-12.9518,  -9.0533,  17.2968],\n",
      "        [-10.9895, -11.2937,  16.9056],\n",
      "        [  7.4089,  -0.5282,  -9.4123],\n",
      "        [  7.8029,  -0.7363,  -9.8199],\n",
      "        [ 10.8055,  -2.8230, -12.6310],\n",
      "        [ 10.7522,  -2.6358, -13.1808],\n",
      "        [ -2.8205,   6.9306,  -2.5946],\n",
      "        [  9.0056,  -1.5736, -11.0277],\n",
      "        [  9.2626,  -1.8330, -11.0491],\n",
      "        [-10.8326,  -5.8827,  13.3027],\n",
      "        [ -2.3206,   6.7467,  -2.8736],\n",
      "        [  8.7622,  -1.2841, -10.9432]], grad_fn=<AddmmBackward>)\n"
     ]
    }
   ],
   "source": [
    "print(y_pred)"
   ]
  },
  {
   "cell_type": "code",
   "execution_count": 413,
   "metadata": {},
   "outputs": [],
   "source": [
    "#как мы видим y pred возвращает вектора, длиной в три, нам необходимо найти максимальный индекс элемента - \n",
    "#это и будет предполагаемый класс\n",
    "y_pred=y_pred.detach().numpy()"
   ]
  },
  {
   "cell_type": "code",
   "execution_count": 414,
   "metadata": {},
   "outputs": [],
   "source": [
    "y_pred = np.argmax(y_pred, axis=-1)"
   ]
  },
  {
   "cell_type": "code",
   "execution_count": 415,
   "metadata": {},
   "outputs": [
    {
     "name": "stdout",
     "output_type": "stream",
     "text": [
      "[[15  0  0]\n",
      " [ 0 10  1]\n",
      " [ 0  0 12]]\n",
      "              precision    recall  f1-score   support\n",
      "\n",
      "           0       1.00      1.00      1.00        15\n",
      "           1       1.00      0.91      0.95        11\n",
      "           2       0.92      1.00      0.96        12\n",
      "\n",
      "    accuracy                           0.97        38\n",
      "   macro avg       0.97      0.97      0.97        38\n",
      "weighted avg       0.98      0.97      0.97        38\n",
      "\n"
     ]
    }
   ],
   "source": [
    "from sklearn.metrics import classification_report, confusion_matrix\n",
    "print(confusion_matrix(y_test, y_pred))\n",
    "print(classification_report(y_test, y_pred))"
   ]
  },
  {
   "cell_type": "code",
   "execution_count": 214,
   "metadata": {},
   "outputs": [],
   "source": [
    "#точность с заданными параметрами будет около 95% но IRIS очен легкий датасет, на котором и обычные статистические \n",
    "#модели ипа KNN SVM показывают 100% точность, поменяйте количество нейронов, lr epoch так, чтобы этого добиться"
   ]
  },
  {
   "cell_type": "code",
   "execution_count": null,
   "metadata": {},
   "outputs": [],
   "source": []
  }
 ],
 "metadata": {
  "colab": {
   "collapsed_sections": [],
   "name": "[homework]neural_networks_pytorch.ipynb",
   "provenance": []
  },
  "hide_input": false,
  "kernelspec": {
   "display_name": "Python 3",
   "language": "python",
   "name": "python3"
  },
  "language_info": {
   "codemirror_mode": {
    "name": "ipython",
    "version": 3
   },
   "file_extension": ".py",
   "mimetype": "text/x-python",
   "name": "python",
   "nbconvert_exporter": "python",
   "pygments_lexer": "ipython3",
   "version": "3.8.8"
  },
  "varInspector": {
   "cols": {
    "lenName": 16,
    "lenType": 16,
    "lenVar": 40
   },
   "kernels_config": {
    "python": {
     "delete_cmd_postfix": "",
     "delete_cmd_prefix": "del ",
     "library": "var_list.py",
     "varRefreshCmd": "print(var_dic_list())"
    },
    "r": {
     "delete_cmd_postfix": ") ",
     "delete_cmd_prefix": "rm(",
     "library": "var_list.r",
     "varRefreshCmd": "cat(var_dic_list()) "
    }
   },
   "types_to_exclude": [
    "module",
    "function",
    "builtin_function_or_method",
    "instance",
    "_Feature"
   ],
   "window_display": false
  }
 },
 "nbformat": 4,
 "nbformat_minor": 1
}
