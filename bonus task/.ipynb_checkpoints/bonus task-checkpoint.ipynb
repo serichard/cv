{
 "cells": [
  {
   "cell_type": "code",
   "execution_count": 1,
   "metadata": {},
   "outputs": [],
   "source": [
    "from sklearn.linear_model import LogisticRegression\n",
    "from sklearn.metrics import log_loss\n",
    "import numpy as np\n",
    "import math\n",
    "%matplotlib inline\n",
    "import matplotlib.pyplot as plt"
   ]
  },
  {
   "cell_type": "code",
   "execution_count": 2,
   "metadata": {},
   "outputs": [],
   "source": [
    "x = np.array([-2.2, -1.4, -.8, .2, .4, .8, 1.2, 2.2, 2.9, 4.6])\n",
    "y = np.array([0.0, 0.0, 1.0, 0.0, 1.0, 1.0, 1.0, 1.0, 1.0, 1.0])"
   ]
  },
  {
   "cell_type": "code",
   "execution_count": 3,
   "metadata": {},
   "outputs": [
    {
     "name": "stdout",
     "output_type": "stream",
     "text": [
      "x = [-2.2 -1.4 -0.8  0.2  0.4  0.8  1.2  2.2  2.9  4.6]\n",
      "y = [0. 0. 1. 0. 1. 1. 1. 1. 1. 1.]\n"
     ]
    }
   ],
   "source": [
    "print('x = {}'.format(x))\n",
    "print('y = {}'.format(y))"
   ]
  },
  {
   "cell_type": "code",
   "execution_count": 4,
   "metadata": {},
   "outputs": [],
   "source": [
    "def sigmoid(x):\n",
    "    return 1.0/(1+ np.exp(-x))"
   ]
  },
  {
   "cell_type": "code",
   "execution_count": 5,
   "metadata": {},
   "outputs": [
    {
     "name": "stdout",
     "output_type": "stream",
     "text": [
      "x = [-2.2 -1.4 -0.8  0.2  0.4  0.8  1.2  2.2  2.9  4.6]\n",
      "y = [0. 0. 1. 0. 1. 1. 1. 1. 1. 1.]\n",
      "p(y) = [0.19 0.33 0.47 0.7  0.74 0.81 0.86 0.94 0.97 0.99]\n",
      "Log Loss / Cross Entropy = 0.3329\n"
     ]
    }
   ],
   "source": [
    "logr = LogisticRegression()\n",
    "logr.fit(x.reshape(-1, 1), y)\n",
    "\n",
    "y_pred = logr.predict_proba(x.reshape(-1, 1))[:, 1].ravel()\n",
    "loss = log_loss(y, y_pred)\n",
    "\n",
    "print('x = {}'.format(x))\n",
    "print('y = {}'.format(y))\n",
    "print('p(y) = {}'.format(np.round(y_pred, 2)))\n",
    "print('Log Loss / Cross Entropy = {:.4f}'.format(loss))"
   ]
  },
  {
   "cell_type": "code",
   "execution_count": 6,
   "metadata": {},
   "outputs": [
    {
     "data": {
      "image/png": "[encoded data removed]",
      "text/plain": [
       "<Figure size 432x288 with 1 Axes>"
      ]
     },
     "metadata": {
      "needs_background": "light"
     },
     "output_type": "display_data"
    }
   ],
   "source": [
    "y_pos = np.arange(10)\n",
    "\n",
    "# Create bars\n",
    "plt.bar(y_pos, y_pred)\n",
    "\n",
    "# Create names on the x-axis\n",
    "plt.xticks(y_pos, y)\n",
    "\n",
    "# Show graphic\n",
    "plt.show()"
   ]
  },
  {
   "cell_type": "code",
   "execution_count": 7,
   "metadata": {},
   "outputs": [],
   "source": [
    "def log_los(y_pred,target):\n",
    "    log_los = []\n",
    "    for i in range(len(y)):\n",
    "        formula = -(target[i] * np.log(y_pred[i]) + (1 - target[i]) *  np.log(1-y_pred[i]))\n",
    "        log_los.append(formula)\n",
    "    return log_los"
   ]
  },
  {
   "cell_type": "code",
   "execution_count": 8,
   "metadata": {},
   "outputs": [],
   "source": [
    "log_los = log_los(y_pred,y)"
   ]
  },
  {
   "cell_type": "code",
   "execution_count": 9,
   "metadata": {},
   "outputs": [
    {
     "data": {
      "image/png": "[encoded data removed]",
      "text/plain": [
       "<Figure size 432x288 with 1 Axes>"
      ]
     },
     "metadata": {
      "needs_background": "light"
     },
     "output_type": "display_data"
    }
   ],
   "source": [
    "y_pos = np.arange(10)\n",
    "# Create bars\n",
    "plt.bar(y_pos, log_los)\n",
    "# Create names on the x-axis\n",
    "plt.xticks(y_pos, y)\n",
    "# Show graphic\n",
    "plt.show()"
   ]
  },
  {
   "cell_type": "code",
   "execution_count": 10,
   "metadata": {},
   "outputs": [
    {
     "data": {
      "text/plain": [
       "0.3329129870740799"
      ]
     },
     "execution_count": 10,
     "metadata": {},
     "output_type": "execute_result"
    }
   ],
   "source": [
    "np.mean(log_los)"
   ]
  },
  {
   "cell_type": "code",
   "execution_count": 11,
   "metadata": {},
   "outputs": [
    {
     "data": {
      "image/png": "[encoded data removed]",
      "text/plain": [
       "<Figure size 432x288 with 1 Axes>"
      ]
     },
     "metadata": {
      "needs_background": "light"
     },
     "output_type": "display_data"
    },
    {
     "name": "stdout",
     "output_type": "stream",
     "text": [
      "Cosine Similarity between A and B:0.7241379310344827\n",
      "Cosine Distance between A and B:0.27586206896551735\n"
     ]
    }
   ],
   "source": [
    "import numpy as np\n",
    "import matplotlib.pyplot as plt\n",
    "# consider two vectors A and B in 2-D\n",
    "A=np.array([7,3])\n",
    "B=np.array([3,7])\n",
    "ax = plt.axes()\n",
    "ax.arrow(0.0, 0.0, A[0], A[1], head_width=0.4, head_length=0.5)\n",
    "plt.annotate(f\"A({A[0]},{A[1]})\", xy=(A[0], A[1]),xytext=(A[0]+0.5, A[1]))\n",
    "ax.arrow(0.0, 0.0, B[0], B[1], head_width=0.4, head_length=0.5)\n",
    "plt.annotate(f\"B({B[0]},{B[1]})\", xy=(B[0], B[1]),xytext=(B[0]+0.5, B[1]))\n",
    "plt.xlim(0,10)\n",
    "plt.ylim(0,10)\n",
    "plt.show()\n",
    "plt.close()\n",
    "# cosine similarity between A and B\n",
    "cos_sim=np.dot(A,B)/(np.linalg.norm(A)*np.linalg.norm(B))\n",
    "print (f\"Cosine Similarity between A and B:{cos_sim}\")\n",
    "print (f\"Cosine Distance between A and B:{1-cos_sim}\")"
   ]
  },
  {
   "cell_type": "markdown",
   "metadata": {},
   "source": [
    "<h2> Task1 </h2> (1 bonus point)"
   ]
  },
  {
   "cell_type": "markdown",
   "metadata": {},
   "source": [
    "The results which we got after training is "
   ]
  },
  {
   "cell_type": "code",
   "execution_count": 12,
   "metadata": {},
   "outputs": [
    {
     "name": "stdout",
     "output_type": "stream",
     "text": [
      "[0.18502755 0.33067915 0.46954674 0.70055754 0.73968614 0.80738468\n",
      " 0.86079066 0.94233936 0.96994276 0.99409712]\n"
     ]
    }
   ],
   "source": [
    "print(y_pred)"
   ]
  },
  {
   "cell_type": "code",
   "execution_count": 15,
   "metadata": {},
   "outputs": [],
   "source": [
    "#Seems that we can not draw confusion matrix for it, so we need to do smtng with it\n",
    "y_pred = (y_pred>= 0.5).astype('float')"
   ]
  },
  {
   "cell_type": "code",
   "execution_count": 16,
   "metadata": {},
   "outputs": [
    {
     "data": {
      "text/plain": [
       "array([0., 0., 0., 1., 1., 1., 1., 1., 1., 1.])"
      ]
     },
     "execution_count": 16,
     "metadata": {},
     "output_type": "execute_result"
    }
   ],
   "source": [
    "y_pred"
   ]
  },
  {
   "cell_type": "code",
   "execution_count": 20,
   "metadata": {},
   "outputs": [],
   "source": [
    "from sklearn.metrics import confusion_matrix, classification_report"
   ]
  },
  {
   "cell_type": "code",
   "execution_count": 21,
   "metadata": {},
   "outputs": [
    {
     "data": {
      "text/plain": [
       "array([[2, 1],\n",
       "       [1, 6]], dtype=int64)"
      ]
     },
     "execution_count": 21,
     "metadata": {},
     "output_type": "execute_result"
    }
   ],
   "source": [
    "#drav confusion matrix and classification report \n",
    "confusion_matrix(y, y_pred)"
   ]
  },
  {
   "cell_type": "code",
   "execution_count": 23,
   "metadata": {},
   "outputs": [
    {
     "name": "stdout",
     "output_type": "stream",
     "text": [
      "              precision    recall  f1-score   support\n",
      "\n",
      "         0.0       0.67      0.67      0.67         3\n",
      "         1.0       0.86      0.86      0.86         7\n",
      "\n",
      "    accuracy                           0.80        10\n",
      "   macro avg       0.76      0.76      0.76        10\n",
      "weighted avg       0.80      0.80      0.80        10\n",
      "\n"
     ]
    }
   ],
   "source": [
    "print(classification_report(y, y_pred))"
   ]
  },
  {
   "cell_type": "markdown",
   "metadata": {},
   "source": [
    "               | Positive Prediction | Negative Prediction\n",
    "Positive Class | True Positive (TP)  | False Negative (FN)\n",
    "Negative Class | False Positive (FP) | True Negative (TN)"
   ]
  },
  {
   "cell_type": "code",
   "execution_count": 25,
   "metadata": {},
   "outputs": [],
   "source": [
    "cm=confusion_matrix(y, y_pred)"
   ]
  },
  {
   "cell_type": "code",
   "execution_count": 28,
   "metadata": {},
   "outputs": [
    {
     "data": {
      "text/plain": [
       "1"
      ]
     },
     "execution_count": 28,
     "metadata": {},
     "output_type": "execute_result"
    }
   ],
   "source": [
    "cm[0,1]"
   ]
  },
  {
   "cell_type": "code",
   "execution_count": 45,
   "metadata": {},
   "outputs": [],
   "source": [
    "def precision(cm):\n",
    "    #Recall = TruePositives / (TruePositives + FalseNegatives)\n",
    "    precision=cm[0,0]/(cm[0,0]+cm[0,1])\n",
    "    return precision"
   ]
  },
  {
   "cell_type": "code",
   "execution_count": 46,
   "metadata": {},
   "outputs": [
    {
     "data": {
      "text/plain": [
       "0.6666666666666666"
      ]
     },
     "execution_count": 46,
     "metadata": {},
     "output_type": "execute_result"
    }
   ],
   "source": [
    "precision(cm)"
   ]
  },
  {
   "cell_type": "code",
   "execution_count": 47,
   "metadata": {},
   "outputs": [],
   "source": [
    "precision1=precision(cm)"
   ]
  },
  {
   "cell_type": "code",
   "execution_count": 48,
   "metadata": {},
   "outputs": [],
   "source": [
    "#write function for calculation precision and recall with numpy only\n",
    "def recall(cm):\n",
    "    #Precision = TruePositives / (TruePositives + FalsePositives)\n",
    "    recall=cm[0,0]/(cm[0,0]+cm[1,0])\n",
    "    return recall"
   ]
  },
  {
   "cell_type": "code",
   "execution_count": 49,
   "metadata": {},
   "outputs": [
    {
     "data": {
      "text/plain": [
       "0.6666666666666666"
      ]
     },
     "execution_count": 49,
     "metadata": {},
     "output_type": "execute_result"
    }
   ],
   "source": [
    "recall(cm)"
   ]
  },
  {
   "cell_type": "code",
   "execution_count": 50,
   "metadata": {},
   "outputs": [],
   "source": [
    "recall1=recall(cm)"
   ]
  },
  {
   "cell_type": "code",
   "execution_count": 53,
   "metadata": {},
   "outputs": [],
   "source": [
    "def fcore(precision1, recall1):\n",
    "    #F-Measure = (2 * Precision * Recall) / (Precision + Recall)\n",
    "    fscore=(2 * precision1 * recall1) /(precision1 + recall1)\n",
    "    return fscore"
   ]
  },
  {
   "cell_type": "code",
   "execution_count": 54,
   "metadata": {},
   "outputs": [
    {
     "data": {
      "text/plain": [
       "0.6666666666666666"
      ]
     },
     "execution_count": 54,
     "metadata": {},
     "output_type": "execute_result"
    }
   ],
   "source": [
    "fcore(precision1, recall1)"
   ]
  },
  {
   "cell_type": "markdown",
   "metadata": {},
   "source": [
    "<h1>Task 2</h1>\n",
    "3 bonus points"
   ]
  },
  {
   "cell_type": "code",
   "execution_count": 56,
   "metadata": {},
   "outputs": [],
   "source": [
    "import pandas as pd"
   ]
  },
  {
   "cell_type": "code",
   "execution_count": 68,
   "metadata": {},
   "outputs": [
    {
     "data": {
      "text/html": [
       "<div>\n",
       "<style scoped>\n",
       "    .dataframe tbody tr th:only-of-type {\n",
       "        vertical-align: middle;\n",
       "    }\n",
       "\n",
       "    .dataframe tbody tr th {\n",
       "        vertical-align: top;\n",
       "    }\n",
       "\n",
       "    .dataframe thead th {\n",
       "        text-align: right;\n",
       "    }\n",
       "</style>\n",
       "<table border=\"1\" class=\"dataframe\">\n",
       "  <thead>\n",
       "    <tr style=\"text-align: right;\">\n",
       "      <th></th>\n",
       "      <th>n1</th>\n",
       "      <th>n2</th>\n",
       "      <th>n3</th>\n",
       "      <th>n4</th>\n",
       "      <th>n5</th>\n",
       "      <th>l</th>\n",
       "    </tr>\n",
       "  </thead>\n",
       "  <tbody>\n",
       "    <tr>\n",
       "      <th>0</th>\n",
       "      <td>0.547269</td>\n",
       "      <td>0.114196</td>\n",
       "      <td>-3.288664</td>\n",
       "      <td>0.563305</td>\n",
       "      <td>0.033648</td>\n",
       "      <td>london</td>\n",
       "    </tr>\n",
       "    <tr>\n",
       "      <th>1</th>\n",
       "      <td>0.235317</td>\n",
       "      <td>-0.113516</td>\n",
       "      <td>-1.637066</td>\n",
       "      <td>0.402852</td>\n",
       "      <td>-0.202032</td>\n",
       "      <td>america</td>\n",
       "    </tr>\n",
       "    <tr>\n",
       "      <th>2</th>\n",
       "      <td>0.634096</td>\n",
       "      <td>0.515461</td>\n",
       "      <td>-2.720974</td>\n",
       "      <td>0.407931</td>\n",
       "      <td>-0.372484</td>\n",
       "      <td>north</td>\n",
       "    </tr>\n",
       "    <tr>\n",
       "      <th>3</th>\n",
       "      <td>0.337193</td>\n",
       "      <td>-0.067410</td>\n",
       "      <td>-2.883790</td>\n",
       "      <td>0.371815</td>\n",
       "      <td>0.827160</td>\n",
       "      <td>minute</td>\n",
       "    </tr>\n",
       "    <tr>\n",
       "      <th>4</th>\n",
       "      <td>0.296074</td>\n",
       "      <td>0.703882</td>\n",
       "      <td>-2.124323</td>\n",
       "      <td>0.607397</td>\n",
       "      <td>0.107036</td>\n",
       "      <td>sydney</td>\n",
       "    </tr>\n",
       "    <tr>\n",
       "      <th>...</th>\n",
       "      <td>...</td>\n",
       "      <td>...</td>\n",
       "      <td>...</td>\n",
       "      <td>...</td>\n",
       "      <td>...</td>\n",
       "      <td>...</td>\n",
       "    </tr>\n",
       "    <tr>\n",
       "      <th>94</th>\n",
       "      <td>0.857000</td>\n",
       "      <td>0.129258</td>\n",
       "      <td>-1.680477</td>\n",
       "      <td>-0.541813</td>\n",
       "      <td>0.812495</td>\n",
       "      <td>totally</td>\n",
       "    </tr>\n",
       "    <tr>\n",
       "      <th>95</th>\n",
       "      <td>-0.884277</td>\n",
       "      <td>-0.542418</td>\n",
       "      <td>-1.943837</td>\n",
       "      <td>0.494745</td>\n",
       "      <td>-0.252859</td>\n",
       "      <td>limited</td>\n",
       "    </tr>\n",
       "    <tr>\n",
       "      <th>96</th>\n",
       "      <td>-0.262730</td>\n",
       "      <td>0.622902</td>\n",
       "      <td>-1.882879</td>\n",
       "      <td>0.082062</td>\n",
       "      <td>-1.087551</td>\n",
       "      <td>stood</td>\n",
       "    </tr>\n",
       "    <tr>\n",
       "      <th>97</th>\n",
       "      <td>-0.092527</td>\n",
       "      <td>-0.014435</td>\n",
       "      <td>-1.520093</td>\n",
       "      <td>-0.170567</td>\n",
       "      <td>-0.931403</td>\n",
       "      <td>regions</td>\n",
       "    </tr>\n",
       "    <tr>\n",
       "      <th>98</th>\n",
       "      <td>0.392538</td>\n",
       "      <td>-0.225799</td>\n",
       "      <td>-1.319379</td>\n",
       "      <td>1.033284</td>\n",
       "      <td>0.800603</td>\n",
       "      <td>translating</td>\n",
       "    </tr>\n",
       "  </tbody>\n",
       "</table>\n",
       "<p>99 rows × 6 columns</p>\n",
       "</div>"
      ],
      "text/plain": [
       "          n1        n2        n3        n4        n5            l\n",
       "0   0.547269  0.114196 -3.288664  0.563305  0.033648       london\n",
       "1   0.235317 -0.113516 -1.637066  0.402852 -0.202032      america\n",
       "2   0.634096  0.515461 -2.720974  0.407931 -0.372484        north\n",
       "3   0.337193 -0.067410 -2.883790  0.371815  0.827160       minute\n",
       "4   0.296074  0.703882 -2.124323  0.607397  0.107036       sydney\n",
       "..       ...       ...       ...       ...       ...          ...\n",
       "94  0.857000  0.129258 -1.680477 -0.541813  0.812495      totally\n",
       "95 -0.884277 -0.542418 -1.943837  0.494745 -0.252859      limited\n",
       "96 -0.262730  0.622902 -1.882879  0.082062 -1.087551        stood\n",
       "97 -0.092527 -0.014435 -1.520093 -0.170567 -0.931403      regions\n",
       "98  0.392538 -0.225799 -1.319379  1.033284  0.800603  translating\n",
       "\n",
       "[99 rows x 6 columns]"
      ]
     },
     "execution_count": 68,
     "metadata": {},
     "output_type": "execute_result"
    }
   ],
   "source": [
    "dataset = pd.read_csv('Quiz1.csv')\n",
    "dataset"
   ]
  },
  {
   "cell_type": "code",
   "execution_count": 69,
   "metadata": {},
   "outputs": [
    {
     "data": {
      "text/html": [
       "<div>\n",
       "<style scoped>\n",
       "    .dataframe tbody tr th:only-of-type {\n",
       "        vertical-align: middle;\n",
       "    }\n",
       "\n",
       "    .dataframe tbody tr th {\n",
       "        vertical-align: top;\n",
       "    }\n",
       "\n",
       "    .dataframe thead th {\n",
       "        text-align: right;\n",
       "    }\n",
       "</style>\n",
       "<table border=\"1\" class=\"dataframe\">\n",
       "  <thead>\n",
       "    <tr style=\"text-align: right;\">\n",
       "      <th></th>\n",
       "      <th>n1</th>\n",
       "      <th>n2</th>\n",
       "      <th>n3</th>\n",
       "      <th>n4</th>\n",
       "      <th>n5</th>\n",
       "      <th>l</th>\n",
       "    </tr>\n",
       "  </thead>\n",
       "  <tbody>\n",
       "    <tr>\n",
       "      <th>1</th>\n",
       "      <td>0.235317</td>\n",
       "      <td>-0.113516</td>\n",
       "      <td>-1.637066</td>\n",
       "      <td>0.402852</td>\n",
       "      <td>-0.202032</td>\n",
       "      <td>america</td>\n",
       "    </tr>\n",
       "  </tbody>\n",
       "</table>\n",
       "</div>"
      ],
      "text/plain": [
       "         n1        n2        n3        n4        n5        l\n",
       "1  0.235317 -0.113516 -1.637066  0.402852 -0.202032  america"
      ]
     },
     "execution_count": 69,
     "metadata": {},
     "output_type": "execute_result"
    }
   ],
   "source": [
    "dataset[dataset.l == 'america']"
   ]
  },
  {
   "cell_type": "code",
   "execution_count": 70,
   "metadata": {},
   "outputs": [],
   "source": [
    "vec = np.array(dataset.drop('l', axis=1))"
   ]
  },
  {
   "cell_type": "code",
   "execution_count": 72,
   "metadata": {},
   "outputs": [],
   "source": [
    "word =dataset['l']"
   ]
  },
  {
   "cell_type": "code",
   "execution_count": 92,
   "metadata": {},
   "outputs": [
    {
     "data": {
      "text/plain": [
       "0          london\n",
       "1         america\n",
       "2           north\n",
       "3          minute\n",
       "4          sydney\n",
       "         ...     \n",
       "94        totally\n",
       "95        limited\n",
       "96          stood\n",
       "97        regions\n",
       "98    translating\n",
       "Name: l, Length: 99, dtype: object"
      ]
     },
     "execution_count": 92,
     "metadata": {},
     "output_type": "execute_result"
    }
   ],
   "source": [
    "word"
   ]
  },
  {
   "cell_type": "code",
   "execution_count": 102,
   "metadata": {},
   "outputs": [],
   "source": [
    "america=vec[1]"
   ]
  },
  {
   "cell_type": "code",
   "execution_count": 118,
   "metadata": {},
   "outputs": [],
   "source": [
    "america=america.tolist()"
   ]
  },
  {
   "cell_type": "code",
   "execution_count": 120,
   "metadata": {},
   "outputs": [],
   "source": [
    "vec=vec.tolist()"
   ]
  },
  {
   "cell_type": "code",
   "execution_count": 119,
   "metadata": {},
   "outputs": [
    {
     "data": {
      "text/plain": [
       "[0.2353169023990631,\n",
       " -0.11351638287305832,\n",
       " -1.6370658874511719,\n",
       " 0.402851551771164,\n",
       " -0.2020321488380432]"
      ]
     },
     "execution_count": 119,
     "metadata": {},
     "output_type": "execute_result"
    }
   ],
   "source": [
    "america"
   ]
  },
  {
   "cell_type": "code",
   "execution_count": 93,
   "metadata": {},
   "outputs": [],
   "source": [
    "from numpy import dot\n",
    "from numpy.linalg import norm"
   ]
  },
  {
   "cell_type": "code",
   "execution_count": 105,
   "metadata": {},
   "outputs": [
    {
     "data": {
      "text/plain": [
       "0.9840811110435184"
      ]
     },
     "execution_count": 105,
     "metadata": {},
     "output_type": "execute_result"
    }
   ],
   "source": [
    "dot(america, vec[0])/(norm(america)*norm(vec[0]))"
   ]
  },
  {
   "cell_type": "code",
   "execution_count": 107,
   "metadata": {},
   "outputs": [],
   "source": [
    "def cosine_simularity(vec,america):\n",
    "    cos_sim = dot(america, vec)/(norm(america)*norm(vec))\n",
    "    return cos_sim"
   ]
  },
  {
   "cell_type": "code",
   "execution_count": 135,
   "metadata": {},
   "outputs": [
    {
     "name": "stdout",
     "output_type": "stream",
     "text": [
      "london\n",
      "0.9840811110435184\n",
      "america\n",
      "1.0\n",
      "north\n",
      "0.9622987330676638\n",
      "minute\n",
      "0.9165337126888378\n",
      "sydney\n",
      "0.9179782479368709\n",
      "prisoner\n",
      "0.9241175727161577\n",
      "shares\n",
      "0.9370461747510439\n",
      "developer\n",
      "0.9510996920989611\n",
      "azkaban\n",
      "0.9339300275406426\n",
      "pedals\n",
      "0.9562312439745707\n",
      "cambridge\n",
      "0.8759471292554556\n",
      "cutting\n",
      "0.899458765356523\n",
      "healthy\n",
      "0.945619007106685\n",
      "finding\n",
      "0.9562773911934934\n",
      "station\n",
      "0.9286249330900164\n",
      "suspend\n",
      "0.9088481627922655\n",
      "headquarters\n",
      "0.9291213340898423\n",
      "trading\n",
      "0.9098430866957237\n",
      "adult\n",
      "0.9221223268624018\n",
      "marker\n",
      "0.8961569771359545\n",
      "bizarre\n",
      "0.8662355155927082\n",
      "sheffield\n",
      "0.8775356489468199\n",
      "stock\n",
      "0.936638541665811\n",
      "drive\n",
      "0.884798266468181\n",
      "edinburgh\n",
      "0.9572045177593076\n",
      "ranging\n",
      "0.8401854367825834\n",
      "better\n",
      "0.9427404191497549\n",
      "makes\n",
      "0.9086731959251789\n",
      "options\n",
      "0.8586969763155994\n",
      "potter\n",
      "0.9060892369428537\n",
      "edgware\n",
      "0.8818558534823151\n",
      "pushing\n",
      "0.9131236547806199\n",
      "exchange\n",
      "0.932847372836819\n",
      "midnight\n",
      "0.8604867228587626\n",
      "add\n",
      "0.8658152446040209\n",
      "acclaim\n",
      "0.812530906473863\n",
      "decryption\n",
      "0.816100639177161\n",
      "amputees\n",
      "0.8675267804404362\n",
      "return\n",
      "0.917041981498448\n",
      "passport\n",
      "0.8387676896463516\n",
      "premises\n",
      "0.898822600870689\n",
      "equivalent\n",
      "0.8115465519514666\n",
      "appearance\n",
      "0.9104155610193492\n",
      "rockstar\n",
      "0.800451686036715\n",
      "identity\n",
      "0.7952932260186527\n",
      "especially\n",
      "0.9168586875582471\n",
      "yoda\n",
      "0.8467792174333534\n",
      "marathon\n",
      "0.7941561468272488\n",
      "evening\n",
      "0.7830120262223369\n",
      "moments\n",
      "0.8062476727428248\n",
      "rings\n",
      "0.8412520951435456\n",
      "lord\n",
      "0.8192532475135376\n",
      "dormant\n",
      "0.8356472817359756\n",
      "submarines\n",
      "0.7522007988004538\n",
      "sacked\n",
      "0.8822652804085267\n",
      "operates\n",
      "0.7664824554997488\n",
      "plans\n",
      "0.8551469844329188\n",
      "peppered\n",
      "0.7818792703396822\n",
      "arm\n",
      "0.8543872956532259\n",
      "cannon\n",
      "0.7711651427261089\n",
      "scale\n",
      "0.8225793286223987\n",
      "monsters\n",
      "0.8190887916685938\n",
      "seat\n",
      "0.8685416836737954\n",
      "listener\n",
      "0.8664136379900524\n",
      "along\n",
      "0.8524172222387996\n",
      "advised\n",
      "0.8903855883306463\n",
      "studios\n",
      "0.7591210350685645\n",
      "prejudiced\n",
      "0.8746551864408898\n",
      "took\n",
      "0.8941027972822868\n",
      "digitally\n",
      "0.7485885932420571\n",
      "six\n",
      "0.8332154499216566\n",
      "films\n",
      "0.8137260270814696\n",
      "exhibit\n",
      "0.7854987712112039\n",
      "megabyte\n",
      "0.8480701691192242\n",
      "effort\n",
      "0.7266646073089691\n",
      "harry\n",
      "0.8392621903960324\n",
      "lots\n",
      "0.7899788885069909\n",
      "drivers\n",
      "0.8490443261700493\n",
      "pixels\n",
      "0.7755501454224906\n",
      "innovations\n",
      "0.7432806868496544\n",
      "memory\n",
      "0.8759729616848807\n",
      "anticipation\n",
      "0.7403684236628286\n",
      "venue\n",
      "0.7082254343810995\n",
      "morpheme\n",
      "0.7665469389023656\n",
      "removed\n",
      "0.7462961863912683\n",
      "loyal\n",
      "0.8918637676888651\n",
      "mustafa\n",
      "0.8177929762016197\n",
      "manually\n",
      "0.8334507710061863\n",
      "constant\n",
      "0.8538739314211308\n",
      "appears\n",
      "0.7561466548289449\n",
      "reserving\n",
      "0.8418775017928319\n",
      "5m\n",
      "0.8382352781316299\n",
      "tuesday\n",
      "0.7642738725526618\n",
      "cushion\n",
      "0.8027311210865198\n",
      "totally\n",
      "0.6990235122588274\n",
      "limited\n",
      "0.8417821134383642\n",
      "stood\n",
      "0.8181637631298606\n",
      "regions\n",
      "0.8399654841135182\n"
     ]
    }
   ],
   "source": [
    "top=[]\n",
    "for i in range(98):\n",
    "    print(word[i])\n",
    "    print(dot(america, vec[i])/(norm(america)*norm(vec[i])))"
   ]
  },
  {
   "cell_type": "markdown",
   "metadata": {},
   "source": [
    "не успел до конца)"
   ]
  },
  {
   "cell_type": "markdown",
   "metadata": {},
   "source": [
    "<h1>Task 3</h1>\n",
    "1 bonus point"
   ]
  },
  {
   "cell_type": "markdown",
   "metadata": {},
   "source": [
    "<br>What is the difference between cosine distance and cosine similarity?\n",
    "<br>Describe the difference between Binary and Categorical Cross Entropy \n"
   ]
  },
  {
   "cell_type": "markdown",
   "metadata": {},
   "source": [
    "1 Косинусное расстояние используется как метрика сходства между векторами\n",
    "Сходство между CD и CS уменьшается, когда расстояние между двумя векторами увеличивается. Сходство увеличивается, когда наоборот\n",
    "\n"
   ]
  },
  {
   "cell_type": "code",
   "execution_count": null,
   "metadata": {},
   "outputs": [],
   "source": [
    "2 Бинарная пер энтр - частный случай категориальной перекрестной энтропии. \n",
    "При использовании его можно классифицировать только два класса.\n",
    "Уравнение для потери бин кросс-энтр - урав для потери категориальной \n",
    "кросс-энтропии с одним вых узлом. При категор перекрестной энтр не ограничены в классах,\n",
    "которая может классифицировать модель."
   ]
  }
 ],
 "metadata": {
  "kernelspec": {
   "display_name": "Python 3",
   "language": "python",
   "name": "python3"
  },
  "language_info": {
   "codemirror_mode": {
    "name": "ipython",
    "version": 3
   },
   "file_extension": ".py",
   "mimetype": "text/x-python",
   "name": "python",
   "nbconvert_exporter": "python",
   "pygments_lexer": "ipython3",
   "version": "3.8.8"
  }
 },
 "nbformat": 4,
 "nbformat_minor": 4
}
