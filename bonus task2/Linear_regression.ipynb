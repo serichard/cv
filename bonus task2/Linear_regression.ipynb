{
  "cells": [
    {
      "cell_type": "code",
      "execution_count": 1,
      "metadata": {
        "id": "kDtxMNn2khMj"
      },
      "outputs": [],
      "source": [
        "import matplotlib.pyplot as plt"
      ]
    },
    {
      "cell_type": "code",
      "execution_count": 2,
      "metadata": {
        "id": "JTmJ1uZ9khMl"
      },
      "outputs": [],
      "source": [
        "import pandas as pd\n",
        "import numpy as np"
      ]
    },
    {
      "cell_type": "code",
      "execution_count": 3,
      "metadata": {
        "colab": {
          "base_uri": "https://localhost:8080/"
        },
        "id": "Ru_E6IvnkhMm",
        "outputId": "da8396f5-6bbd-40f8-8878-6fa4cb12478e"
      },
      "outputs": [
        {
          "output_type": "stream",
          "name": "stderr",
          "text": [
            "/usr/local/lib/python3.7/dist-packages/sklearn/utils/deprecation.py:87: FutureWarning: Function load_boston is deprecated; `load_boston` is deprecated in 1.0 and will be removed in 1.2.\n",
            "\n",
            "    The Boston housing prices dataset has an ethical problem. You can refer to\n",
            "    the documentation of this function for further details.\n",
            "\n",
            "    The scikit-learn maintainers therefore strongly discourage the use of this\n",
            "    dataset unless the purpose of the code is to study and educate about\n",
            "    ethical issues in data science and machine learning.\n",
            "\n",
            "    In this special case, you can fetch the dataset from the original\n",
            "    source::\n",
            "\n",
            "        import pandas as pd\n",
            "        import numpy as np\n",
            "\n",
            "\n",
            "        data_url = \"http://lib.stat.cmu.edu/datasets/boston\"\n",
            "        raw_df = pd.read_csv(data_url, sep=\"\\s+\", skiprows=22, header=None)\n",
            "        data = np.hstack([raw_df.values[::2, :], raw_df.values[1::2, :2]])\n",
            "        target = raw_df.values[1::2, 2]\n",
            "\n",
            "    Alternative datasets include the California housing dataset (i.e.\n",
            "    :func:`~sklearn.datasets.fetch_california_housing`) and the Ames housing\n",
            "    dataset. You can load the datasets as follows::\n",
            "\n",
            "        from sklearn.datasets import fetch_california_housing\n",
            "        housing = fetch_california_housing()\n",
            "\n",
            "    for the California housing dataset and::\n",
            "\n",
            "        from sklearn.datasets import fetch_openml\n",
            "        housing = fetch_openml(name=\"house_prices\", as_frame=True)\n",
            "\n",
            "    for the Ames housing dataset.\n",
            "    \n",
            "  warnings.warn(msg, category=FutureWarning)\n"
          ]
        }
      ],
      "source": [
        "from sklearn.datasets import load_boston\n",
        "boston_dataset = load_boston()"
      ]
    },
    {
      "cell_type": "code",
      "execution_count": 4,
      "metadata": {
        "colab": {
          "base_uri": "https://localhost:8080/",
          "height": 206
        },
        "id": "y0jAvqIPkhMn",
        "outputId": "b26f86ba-6977-46fc-e217-d6f6c837c97a"
      },
      "outputs": [
        {
          "output_type": "execute_result",
          "data": {
            "text/html": [
              "<div>\n",
              "<style scoped>\n",
              "    .dataframe tbody tr th:only-of-type {\n",
              "        vertical-align: middle;\n",
              "    }\n",
              "\n",
              "    .dataframe tbody tr th {\n",
              "        vertical-align: top;\n",
              "    }\n",
              "\n",
              "    .dataframe thead th {\n",
              "        text-align: right;\n",
              "    }\n",
              "</style>\n",
              "<table border=\"1\" class=\"dataframe\">\n",
              "  <thead>\n",
              "    <tr style=\"text-align: right;\">\n",
              "      <th></th>\n",
              "      <th>CRIM</th>\n",
              "      <th>ZN</th>\n",
              "      <th>INDUS</th>\n",
              "      <th>CHAS</th>\n",
              "      <th>NOX</th>\n",
              "      <th>RM</th>\n",
              "      <th>AGE</th>\n",
              "      <th>DIS</th>\n",
              "      <th>RAD</th>\n",
              "      <th>TAX</th>\n",
              "      <th>PTRATIO</th>\n",
              "      <th>B</th>\n",
              "      <th>LSTAT</th>\n",
              "    </tr>\n",
              "  </thead>\n",
              "  <tbody>\n",
              "    <tr>\n",
              "      <th>0</th>\n",
              "      <td>0.00632</td>\n",
              "      <td>18.0</td>\n",
              "      <td>2.31</td>\n",
              "      <td>0.0</td>\n",
              "      <td>0.538</td>\n",
              "      <td>6.575</td>\n",
              "      <td>65.2</td>\n",
              "      <td>4.0900</td>\n",
              "      <td>1.0</td>\n",
              "      <td>296.0</td>\n",
              "      <td>15.3</td>\n",
              "      <td>396.90</td>\n",
              "      <td>4.98</td>\n",
              "    </tr>\n",
              "    <tr>\n",
              "      <th>1</th>\n",
              "      <td>0.02731</td>\n",
              "      <td>0.0</td>\n",
              "      <td>7.07</td>\n",
              "      <td>0.0</td>\n",
              "      <td>0.469</td>\n",
              "      <td>6.421</td>\n",
              "      <td>78.9</td>\n",
              "      <td>4.9671</td>\n",
              "      <td>2.0</td>\n",
              "      <td>242.0</td>\n",
              "      <td>17.8</td>\n",
              "      <td>396.90</td>\n",
              "      <td>9.14</td>\n",
              "    </tr>\n",
              "    <tr>\n",
              "      <th>2</th>\n",
              "      <td>0.02729</td>\n",
              "      <td>0.0</td>\n",
              "      <td>7.07</td>\n",
              "      <td>0.0</td>\n",
              "      <td>0.469</td>\n",
              "      <td>7.185</td>\n",
              "      <td>61.1</td>\n",
              "      <td>4.9671</td>\n",
              "      <td>2.0</td>\n",
              "      <td>242.0</td>\n",
              "      <td>17.8</td>\n",
              "      <td>392.83</td>\n",
              "      <td>4.03</td>\n",
              "    </tr>\n",
              "    <tr>\n",
              "      <th>3</th>\n",
              "      <td>0.03237</td>\n",
              "      <td>0.0</td>\n",
              "      <td>2.18</td>\n",
              "      <td>0.0</td>\n",
              "      <td>0.458</td>\n",
              "      <td>6.998</td>\n",
              "      <td>45.8</td>\n",
              "      <td>6.0622</td>\n",
              "      <td>3.0</td>\n",
              "      <td>222.0</td>\n",
              "      <td>18.7</td>\n",
              "      <td>394.63</td>\n",
              "      <td>2.94</td>\n",
              "    </tr>\n",
              "    <tr>\n",
              "      <th>4</th>\n",
              "      <td>0.06905</td>\n",
              "      <td>0.0</td>\n",
              "      <td>2.18</td>\n",
              "      <td>0.0</td>\n",
              "      <td>0.458</td>\n",
              "      <td>7.147</td>\n",
              "      <td>54.2</td>\n",
              "      <td>6.0622</td>\n",
              "      <td>3.0</td>\n",
              "      <td>222.0</td>\n",
              "      <td>18.7</td>\n",
              "      <td>396.90</td>\n",
              "      <td>5.33</td>\n",
              "    </tr>\n",
              "  </tbody>\n",
              "</table>\n",
              "</div>"
            ],
            "text/plain": [
              "      CRIM    ZN  INDUS  CHAS    NOX  ...  RAD    TAX  PTRATIO       B  LSTAT\n",
              "0  0.00632  18.0   2.31   0.0  0.538  ...  1.0  296.0     15.3  396.90   4.98\n",
              "1  0.02731   0.0   7.07   0.0  0.469  ...  2.0  242.0     17.8  396.90   9.14\n",
              "2  0.02729   0.0   7.07   0.0  0.469  ...  2.0  242.0     17.8  392.83   4.03\n",
              "3  0.03237   0.0   2.18   0.0  0.458  ...  3.0  222.0     18.7  394.63   2.94\n",
              "4  0.06905   0.0   2.18   0.0  0.458  ...  3.0  222.0     18.7  396.90   5.33\n",
              "\n",
              "[5 rows x 13 columns]"
            ]
          },
          "metadata": {},
          "execution_count": 4
        }
      ],
      "source": [
        "df = pd.DataFrame(boston_dataset.data, columns=boston_dataset.feature_names)\n",
        "\n",
        "df.head()"
      ]
    },
    {
      "cell_type": "code",
      "execution_count": 5,
      "metadata": {
        "id": "wpTC5vCNkhMp"
      },
      "outputs": [],
      "source": [
        "data = df[df.columns[:-1]]\n",
        "data = data.apply(\n",
        "    lambda x: (x - x.mean()) / x.std()\n",
        ")"
      ]
    },
    {
      "cell_type": "code",
      "execution_count": 6,
      "metadata": {
        "colab": {
          "base_uri": "https://localhost:8080/",
          "height": 423
        },
        "id": "cDSd_GjTkhMq",
        "outputId": "4bc0322e-7541-4cc6-8bf0-459018a51960"
      },
      "outputs": [
        {
          "output_type": "execute_result",
          "data": {
            "text/html": [
              "<div>\n",
              "<style scoped>\n",
              "    .dataframe tbody tr th:only-of-type {\n",
              "        vertical-align: middle;\n",
              "    }\n",
              "\n",
              "    .dataframe tbody tr th {\n",
              "        vertical-align: top;\n",
              "    }\n",
              "\n",
              "    .dataframe thead th {\n",
              "        text-align: right;\n",
              "    }\n",
              "</style>\n",
              "<table border=\"1\" class=\"dataframe\">\n",
              "  <thead>\n",
              "    <tr style=\"text-align: right;\">\n",
              "      <th></th>\n",
              "      <th>CRIM</th>\n",
              "      <th>ZN</th>\n",
              "      <th>INDUS</th>\n",
              "      <th>CHAS</th>\n",
              "      <th>NOX</th>\n",
              "      <th>RM</th>\n",
              "      <th>AGE</th>\n",
              "      <th>DIS</th>\n",
              "      <th>RAD</th>\n",
              "      <th>TAX</th>\n",
              "      <th>PTRATIO</th>\n",
              "      <th>B</th>\n",
              "    </tr>\n",
              "  </thead>\n",
              "  <tbody>\n",
              "    <tr>\n",
              "      <th>0</th>\n",
              "      <td>-0.419367</td>\n",
              "      <td>0.284548</td>\n",
              "      <td>-1.286636</td>\n",
              "      <td>-0.272329</td>\n",
              "      <td>-0.144075</td>\n",
              "      <td>0.413263</td>\n",
              "      <td>-0.119895</td>\n",
              "      <td>0.140075</td>\n",
              "      <td>-0.981871</td>\n",
              "      <td>-0.665949</td>\n",
              "      <td>-1.457558</td>\n",
              "      <td>0.440616</td>\n",
              "    </tr>\n",
              "    <tr>\n",
              "      <th>1</th>\n",
              "      <td>-0.416927</td>\n",
              "      <td>-0.487240</td>\n",
              "      <td>-0.592794</td>\n",
              "      <td>-0.272329</td>\n",
              "      <td>-0.739530</td>\n",
              "      <td>0.194082</td>\n",
              "      <td>0.366803</td>\n",
              "      <td>0.556609</td>\n",
              "      <td>-0.867024</td>\n",
              "      <td>-0.986353</td>\n",
              "      <td>-0.302794</td>\n",
              "      <td>0.440616</td>\n",
              "    </tr>\n",
              "    <tr>\n",
              "      <th>2</th>\n",
              "      <td>-0.416929</td>\n",
              "      <td>-0.487240</td>\n",
              "      <td>-0.592794</td>\n",
              "      <td>-0.272329</td>\n",
              "      <td>-0.739530</td>\n",
              "      <td>1.281446</td>\n",
              "      <td>-0.265549</td>\n",
              "      <td>0.556609</td>\n",
              "      <td>-0.867024</td>\n",
              "      <td>-0.986353</td>\n",
              "      <td>-0.302794</td>\n",
              "      <td>0.396035</td>\n",
              "    </tr>\n",
              "    <tr>\n",
              "      <th>3</th>\n",
              "      <td>-0.416338</td>\n",
              "      <td>-0.487240</td>\n",
              "      <td>-1.305586</td>\n",
              "      <td>-0.272329</td>\n",
              "      <td>-0.834458</td>\n",
              "      <td>1.015298</td>\n",
              "      <td>-0.809088</td>\n",
              "      <td>1.076671</td>\n",
              "      <td>-0.752178</td>\n",
              "      <td>-1.105022</td>\n",
              "      <td>0.112920</td>\n",
              "      <td>0.415751</td>\n",
              "    </tr>\n",
              "    <tr>\n",
              "      <th>4</th>\n",
              "      <td>-0.412074</td>\n",
              "      <td>-0.487240</td>\n",
              "      <td>-1.305586</td>\n",
              "      <td>-0.272329</td>\n",
              "      <td>-0.834458</td>\n",
              "      <td>1.227362</td>\n",
              "      <td>-0.510674</td>\n",
              "      <td>1.076671</td>\n",
              "      <td>-0.752178</td>\n",
              "      <td>-1.105022</td>\n",
              "      <td>0.112920</td>\n",
              "      <td>0.440616</td>\n",
              "    </tr>\n",
              "    <tr>\n",
              "      <th>...</th>\n",
              "      <td>...</td>\n",
              "      <td>...</td>\n",
              "      <td>...</td>\n",
              "      <td>...</td>\n",
              "      <td>...</td>\n",
              "      <td>...</td>\n",
              "      <td>...</td>\n",
              "      <td>...</td>\n",
              "      <td>...</td>\n",
              "      <td>...</td>\n",
              "      <td>...</td>\n",
              "      <td>...</td>\n",
              "    </tr>\n",
              "    <tr>\n",
              "      <th>501</th>\n",
              "      <td>-0.412820</td>\n",
              "      <td>-0.487240</td>\n",
              "      <td>0.115624</td>\n",
              "      <td>-0.272329</td>\n",
              "      <td>0.157968</td>\n",
              "      <td>0.438881</td>\n",
              "      <td>0.018654</td>\n",
              "      <td>-0.625178</td>\n",
              "      <td>-0.981871</td>\n",
              "      <td>-0.802418</td>\n",
              "      <td>1.175303</td>\n",
              "      <td>0.386834</td>\n",
              "    </tr>\n",
              "    <tr>\n",
              "      <th>502</th>\n",
              "      <td>-0.414839</td>\n",
              "      <td>-0.487240</td>\n",
              "      <td>0.115624</td>\n",
              "      <td>-0.272329</td>\n",
              "      <td>0.157968</td>\n",
              "      <td>-0.234316</td>\n",
              "      <td>0.288648</td>\n",
              "      <td>-0.715931</td>\n",
              "      <td>-0.981871</td>\n",
              "      <td>-0.802418</td>\n",
              "      <td>1.175303</td>\n",
              "      <td>0.440616</td>\n",
              "    </tr>\n",
              "    <tr>\n",
              "      <th>503</th>\n",
              "      <td>-0.413038</td>\n",
              "      <td>-0.487240</td>\n",
              "      <td>0.115624</td>\n",
              "      <td>-0.272329</td>\n",
              "      <td>0.157968</td>\n",
              "      <td>0.983986</td>\n",
              "      <td>0.796661</td>\n",
              "      <td>-0.772919</td>\n",
              "      <td>-0.981871</td>\n",
              "      <td>-0.802418</td>\n",
              "      <td>1.175303</td>\n",
              "      <td>0.440616</td>\n",
              "    </tr>\n",
              "    <tr>\n",
              "      <th>504</th>\n",
              "      <td>-0.407361</td>\n",
              "      <td>-0.487240</td>\n",
              "      <td>0.115624</td>\n",
              "      <td>-0.272329</td>\n",
              "      <td>0.157968</td>\n",
              "      <td>0.724955</td>\n",
              "      <td>0.736268</td>\n",
              "      <td>-0.667776</td>\n",
              "      <td>-0.981871</td>\n",
              "      <td>-0.802418</td>\n",
              "      <td>1.175303</td>\n",
              "      <td>0.402826</td>\n",
              "    </tr>\n",
              "    <tr>\n",
              "      <th>505</th>\n",
              "      <td>-0.414590</td>\n",
              "      <td>-0.487240</td>\n",
              "      <td>0.115624</td>\n",
              "      <td>-0.272329</td>\n",
              "      <td>0.157968</td>\n",
              "      <td>-0.362408</td>\n",
              "      <td>0.434302</td>\n",
              "      <td>-0.612640</td>\n",
              "      <td>-0.981871</td>\n",
              "      <td>-0.802418</td>\n",
              "      <td>1.175303</td>\n",
              "      <td>0.440616</td>\n",
              "    </tr>\n",
              "  </tbody>\n",
              "</table>\n",
              "<p>506 rows × 12 columns</p>\n",
              "</div>"
            ],
            "text/plain": [
              "         CRIM        ZN     INDUS  ...       TAX   PTRATIO         B\n",
              "0   -0.419367  0.284548 -1.286636  ... -0.665949 -1.457558  0.440616\n",
              "1   -0.416927 -0.487240 -0.592794  ... -0.986353 -0.302794  0.440616\n",
              "2   -0.416929 -0.487240 -0.592794  ... -0.986353 -0.302794  0.396035\n",
              "3   -0.416338 -0.487240 -1.305586  ... -1.105022  0.112920  0.415751\n",
              "4   -0.412074 -0.487240 -1.305586  ... -1.105022  0.112920  0.440616\n",
              "..        ...       ...       ...  ...       ...       ...       ...\n",
              "501 -0.412820 -0.487240  0.115624  ... -0.802418  1.175303  0.386834\n",
              "502 -0.414839 -0.487240  0.115624  ... -0.802418  1.175303  0.440616\n",
              "503 -0.413038 -0.487240  0.115624  ... -0.802418  1.175303  0.440616\n",
              "504 -0.407361 -0.487240  0.115624  ... -0.802418  1.175303  0.402826\n",
              "505 -0.414590 -0.487240  0.115624  ... -0.802418  1.175303  0.440616\n",
              "\n",
              "[506 rows x 12 columns]"
            ]
          },
          "metadata": {},
          "execution_count": 6
        }
      ],
      "source": [
        "data"
      ]
    },
    {
      "cell_type": "code",
      "execution_count": 7,
      "metadata": {
        "id": "yk9dilflkhMq"
      },
      "outputs": [],
      "source": [
        "data['MEDV'] = boston_dataset.target"
      ]
    },
    {
      "cell_type": "code",
      "execution_count": 8,
      "metadata": {
        "id": "dinW6HJZkhMq"
      },
      "outputs": [],
      "source": [
        "X = data.drop('MEDV', axis=1).to_numpy()\n",
        "Y = data['MEDV'].to_numpy()"
      ]
    },
    {
      "cell_type": "code",
      "execution_count": 9,
      "metadata": {
        "id": "Pr9SeuMYkhMr"
      },
      "outputs": [],
      "source": [
        "#поделить датасет 80:20\n",
        "from sklearn.model_selection import train_test_split\n",
        "X_train, X_test, y_train, y_test = train_test_split(X, Y, test_size=0.20, random_state=21)"
      ]
    },
    {
      "cell_type": "code",
      "source": [
        "import torch\n",
        "from torch import nn\n",
        "from torch import functional as F"
      ],
      "metadata": {
        "id": "tw6fmXrzpLqI"
      },
      "execution_count": 10,
      "outputs": []
    },
    {
      "cell_type": "code",
      "execution_count": 11,
      "metadata": {
        "id": "RZulrNFBkhMr"
      },
      "outputs": [],
      "source": [
        "#конвертируйте в torch tensor \n",
        "X_train = torch.FloatTensor(X_train)\n",
        "y_train = torch.FloatTensor(y_train)\n",
        "X_test = torch.FloatTensor(X_test)\n",
        "y_test = torch.FloatTensor(y_test)"
      ]
    },
    {
      "cell_type": "code",
      "source": [
        "y_train.shape"
      ],
      "metadata": {
        "colab": {
          "base_uri": "https://localhost:8080/"
        },
        "id": "etzqPHIosDSw",
        "outputId": "12330fd6-645f-4311-e325-5f83cc261bf4"
      },
      "execution_count": 12,
      "outputs": [
        {
          "output_type": "execute_result",
          "data": {
            "text/plain": [
              "torch.Size([404])"
            ]
          },
          "metadata": {},
          "execution_count": 12
        }
      ]
    },
    {
      "cell_type": "code",
      "execution_count": 13,
      "metadata": {
        "id": "qbRZKHtNkhMs"
      },
      "outputs": [],
      "source": [
        "import torch\n",
        "from torch.autograd import Variable\n",
        "class linearRegression(torch.nn.Module):\n",
        "    def __init__(self, inputSize, outputSize):\n",
        "        super(linearRegression, self).__init__()\n",
        "        self.linear = torch.nn.Linear(inputSize, outputSize)\n",
        "\n",
        "    def forward(self, x):\n",
        "        out = self.linear(x).reshape(-1)\n",
        "        return out"
      ]
    },
    {
      "cell_type": "code",
      "execution_count": 14,
      "metadata": {
        "id": "nxyn3KaykhMs"
      },
      "outputs": [],
      "source": [
        "#подберите параметры \n",
        "inputDim = 12\n",
        "outputDim = 1\n",
        "learningRate = 0.01\n",
        "epochs = 1000\n",
        "\n",
        "model = linearRegression(inputDim, outputDim)"
      ]
    },
    {
      "cell_type": "code",
      "execution_count": 15,
      "metadata": {
        "id": "EILGXXhrkhMs"
      },
      "outputs": [],
      "source": [
        "criterion = torch.nn.MSELoss() \n",
        "optimizer = torch.optim.SGD(model.parameters(), lr=learningRate)"
      ]
    },
    {
      "cell_type": "code",
      "execution_count": 16,
      "metadata": {
        "id": "1yzhTHfzkhMt"
      },
      "outputs": [],
      "source": [
        "error = []"
      ]
    },
    {
      "cell_type": "code",
      "execution_count": 17,
      "metadata": {
        "colab": {
          "base_uri": "https://localhost:8080/"
        },
        "id": "sB8vvsIqkhMt",
        "outputId": "ddcf8b02-feb1-4628-d776-ec5a40d6821d"
      },
      "outputs": [
        {
          "output_type": "execute_result",
          "data": {
            "text/plain": [
              "torch.Size([404, 12])"
            ]
          },
          "metadata": {},
          "execution_count": 17
        }
      ],
      "source": [
        "X_train.shape"
      ]
    },
    {
      "cell_type": "code",
      "execution_count": 18,
      "metadata": {
        "colab": {
          "base_uri": "https://localhost:8080/"
        },
        "id": "gRZGyl01khMt",
        "outputId": "50dca4a0-a545-4cf3-b496-b775576841ec"
      },
      "outputs": [
        {
          "output_type": "stream",
          "name": "stdout",
          "text": [
            "epoch  0  loss:  594.8081665039062\n",
            "epoch  20  loss:  270.9816589355469\n",
            "epoch  40  loss:  136.36801147460938\n",
            "epoch  60  loss:  76.66474151611328\n",
            "epoch  80  loss:  49.883174896240234\n",
            "epoch  100  loss:  37.73372268676758\n",
            "epoch  120  loss:  32.13931655883789\n",
            "epoch  140  loss:  29.50504493713379\n",
            "epoch  160  loss:  28.220422744750977\n",
            "epoch  180  loss:  27.559383392333984\n",
            "epoch  200  loss:  27.192346572875977\n",
            "epoch  220  loss:  26.968381881713867\n",
            "epoch  240  loss:  26.817476272583008\n",
            "epoch  260  loss:  26.706518173217773\n",
            "epoch  280  loss:  26.619375228881836\n",
            "epoch  300  loss:  26.547809600830078\n",
            "epoch  320  loss:  26.487356185913086\n",
            "epoch  340  loss:  26.435380935668945\n",
            "epoch  360  loss:  26.390178680419922\n",
            "epoch  380  loss:  26.350576400756836\n",
            "epoch  400  loss:  26.315685272216797\n",
            "epoch  420  loss:  26.284812927246094\n",
            "epoch  440  loss:  26.25739860534668\n",
            "epoch  460  loss:  26.232973098754883\n",
            "epoch  480  loss:  26.211153030395508\n",
            "epoch  500  loss:  26.19159507751465\n",
            "epoch  520  loss:  26.174026489257812\n",
            "epoch  540  loss:  26.158205032348633\n",
            "epoch  560  loss:  26.143918991088867\n",
            "epoch  580  loss:  26.13098907470703\n",
            "epoch  600  loss:  26.119266510009766\n",
            "epoch  620  loss:  26.108600616455078\n",
            "epoch  640  loss:  26.098894119262695\n",
            "epoch  660  loss:  26.090023040771484\n",
            "epoch  680  loss:  26.081907272338867\n",
            "epoch  700  loss:  26.074474334716797\n",
            "epoch  720  loss:  26.06764793395996\n",
            "epoch  740  loss:  26.06136703491211\n",
            "epoch  760  loss:  26.055580139160156\n",
            "epoch  780  loss:  26.05023765563965\n",
            "epoch  800  loss:  26.0452938079834\n",
            "epoch  820  loss:  26.040719985961914\n",
            "epoch  840  loss:  26.036483764648438\n",
            "epoch  860  loss:  26.03254508972168\n",
            "epoch  880  loss:  26.028886795043945\n",
            "epoch  900  loss:  26.025480270385742\n",
            "epoch  920  loss:  26.022300720214844\n",
            "epoch  940  loss:  26.01934051513672\n",
            "epoch  960  loss:  26.016572952270508\n",
            "epoch  980  loss:  26.013988494873047\n"
          ]
        }
      ],
      "source": [
        "#обучите нейронную сеть\n",
        "for epoch in range(epochs):\n",
        "\n",
        "    #epoch += 1\n",
        "\n",
        "    inputs, labels = X_train, y_train\n",
        "     \n",
        "    optimizer.zero_grad()\n",
        "    outputs = model(inputs)\n",
        "\n",
        "    \n",
        "    loss = criterion(outputs, labels)\n",
        "    loss.backward()\n",
        "    optimizer.step()\n",
        "    if (epoch%20 == 0):\n",
        "        print('epoch ',epoch,' loss: ', loss.item())\n",
        "        error.append(loss)"
      ]
    },
    {
      "cell_type": "code",
      "source": [
        ""
      ],
      "metadata": {
        "id": "Q_hvu5Sq9MeM"
      },
      "execution_count": 18,
      "outputs": []
    },
    {
      "cell_type": "code",
      "execution_count": 19,
      "metadata": {
        "colab": {
          "base_uri": "https://localhost:8080/",
          "height": 427
        },
        "id": "7avX2pP8khMu",
        "outputId": "8250a3b8-7230-4f1c-a495-d72c1428ad2e"
      },
      "outputs": [
        {
          "output_type": "display_data",
          "data": {
            "image/png": "[encoded data removed]",
            "text/plain": [
              "<Figure size 720x504 with 1 Axes>"
            ]
          },
          "metadata": {
            "needs_background": "light"
          }
        }
      ],
      "source": [
        "#график ошибки\n",
        "plt.figure(figsize=(10,7))\n",
        "plt.plot(np.arange(len(error)), error)\n",
        "plt.show()"
      ]
    },
    {
      "cell_type": "code",
      "execution_count": 20,
      "metadata": {
        "id": "4bZ4SwdkkhMu"
      },
      "outputs": [],
      "source": [
        "#model.eval()\n",
        "with torch.no_grad(): \n",
        "    predicted = model(X_test)"
      ]
    },
    {
      "cell_type": "code",
      "execution_count": 21,
      "metadata": {
        "colab": {
          "base_uri": "https://localhost:8080/"
        },
        "id": "6sQrxngmkhMu",
        "outputId": "0a08c165-8491-46af-81de-b216a2ee3a71"
      },
      "outputs": [
        {
          "output_type": "execute_result",
          "data": {
            "text/plain": [
              "tensor([15.7404, 20.0549, 24.3934, 37.1628, 31.6379, 14.2927, 24.9260, 29.0371,\n",
              "        31.5565, 17.7850, 22.2901, 17.1829, 28.3954, 13.5491, 18.7236, 27.2074,\n",
              "        15.7862, 28.0359, 11.1862, 19.7141, 22.6063, 26.1692, 20.7010,  5.1628,\n",
              "        18.6871, 35.1271, 25.7569, 31.8351, 14.4221, 25.1049, 25.7126, 17.8945,\n",
              "        34.3154, 12.9594, 27.2862, 31.7326, 36.7259, 24.1806, 19.0424, 18.1666,\n",
              "        20.6477, 29.4264, 25.0219, 21.0481, 20.0835, 19.6772, 29.2699, 20.7126,\n",
              "        30.3851, 23.8271, 32.9722, 14.8488, 41.7093, 15.7404, 15.6725, 17.7230,\n",
              "        11.5389, 22.1739, 22.0260, 26.5648, 18.4446, 34.8428, 25.3306, 22.4319,\n",
              "        36.1359, 36.9951, 30.2139, 20.8594, 22.0343, 17.1750, 15.6876, 23.5556,\n",
              "         5.9444, 26.3182, 27.3061, 22.9629, 33.2965, 20.0975, 22.9549, 16.7395,\n",
              "        21.5470, 21.7050, 27.3338, 17.9056, 11.5317, 24.6365, 35.4320, 26.4159,\n",
              "        15.8883, 23.8293, 21.7067, 10.8344, 41.6917, 12.0945, 30.5504, 12.8674,\n",
              "         9.7173, 19.7345, 18.0483, 30.4891, 14.9545, 23.1751])"
            ]
          },
          "metadata": {},
          "execution_count": 21
        }
      ],
      "source": [
        "predicted"
      ]
    },
    {
      "cell_type": "code",
      "execution_count": 22,
      "metadata": {
        "colab": {
          "base_uri": "https://localhost:8080/"
        },
        "id": "-_mQCbXvkhMv",
        "outputId": "82646248-0a86-4ace-84f0-ca4c46290702"
      },
      "outputs": [
        {
          "output_type": "execute_result",
          "data": {
            "text/plain": [
              "tensor([14.1000, 13.4000, 22.1000, 41.7000, 28.5000, 13.6000, 23.1000, 23.0000,\n",
              "        31.6000, 16.0000, 18.9000,  8.5000, 23.3000,  7.2000, 18.4000, 25.0000,\n",
              "        13.4000, 23.6000, 14.4000, 17.8000, 18.7000, 19.4000, 15.2000, 17.9000,\n",
              "        23.1000, 39.8000, 28.1000, 37.0000, 20.6000, 21.4000, 24.2000, 19.9000,\n",
              "        32.0000, 13.9000, 36.2000, 32.9000, 46.7000, 21.7000, 16.1000, 14.9000,\n",
              "        22.2000, 41.3000, 22.2000, 50.0000, 22.2000, 13.8000, 24.1000, 20.1000,\n",
              "        30.5000, 21.2000, 34.9000, 16.2000, 50.0000, 13.8000, 11.3000,  6.3000,\n",
              "         7.0000, 21.0000, 19.3000, 27.1000, 13.0000, 33.4000, 24.7000, 20.9000,\n",
              "        50.0000, 33.3000, 22.0000, 18.9000, 21.0000, 20.4000,  5.6000, 23.8000,\n",
              "        15.0000, 22.0000, 22.8000, 20.5000, 27.5000, 17.7000, 22.7000, 15.4000,\n",
              "        19.3000, 17.1000, 23.7000, 15.2000, 10.4000, 21.7000, 36.5000, 23.9000,\n",
              "        17.4000, 24.8000, 13.9000,  8.7000, 48.8000,  8.3000, 29.9000, 18.2000,\n",
              "        10.9000, 19.1000, 19.1000, 26.4000, 17.6000, 23.1000])"
            ]
          },
          "metadata": {},
          "execution_count": 22
        }
      ],
      "source": [
        "y_test"
      ]
    },
    {
      "cell_type": "code",
      "execution_count": 25,
      "metadata": {
        "id": "coBpUZB9khMw"
      },
      "outputs": [],
      "source": [
        "#RMSE / MSE на Train/test сетах\n",
        "import sklearn.metrics as metrics "
      ]
    },
    {
      "cell_type": "code",
      "source": [
        "print('MSE:', metrics.mean_squared_error(y_test, predicted))\n",
        "print('RMSE:', np.sqrt(metrics.mean_squared_error(y_test, predicted)))"
      ],
      "metadata": {
        "colab": {
          "base_uri": "https://localhost:8080/"
        },
        "id": "Lv8NlNlexG3C",
        "outputId": "0a09512f-3795-4db1-ad15-27b4288befb5"
      },
      "execution_count": 26,
      "outputs": [
        {
          "output_type": "stream",
          "name": "stdout",
          "text": [
            "MSE: 30.267776\n",
            "RMSE: 5.501616\n"
          ]
        }
      ]
    }
  ],
  "metadata": {
    "kernelspec": {
      "display_name": "Python 3",
      "language": "python",
      "name": "python3"
    },
    "language_info": {
      "codemirror_mode": {
        "name": "ipython",
        "version": 3
      },
      "file_extension": ".py",
      "mimetype": "text/x-python",
      "name": "python",
      "nbconvert_exporter": "python",
      "pygments_lexer": "ipython3",
      "version": "3.7.6"
    },
    "colab": {
      "name": "Linear regression.ipynb",
      "provenance": []
    },
    "accelerator": "GPU"
  },
  "nbformat": 4,
  "nbformat_minor": 0
}